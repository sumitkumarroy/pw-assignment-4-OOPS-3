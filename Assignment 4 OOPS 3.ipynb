{
 "cells": [
  {
   "cell_type": "code",
   "execution_count": 1,
   "id": "48ebd0cd",
   "metadata": {},
   "outputs": [],
   "source": [
    "'''\n",
    "#1. Abstraction:- it is the process of hiding complex implementation part of the cade and shows only important features.\n",
    "              It increase the simplisity of the code.\n",
    "'''\n",
    "\n",
    "import abc\n",
    "\n",
    "class school:\n",
    "    \n",
    "    @abc.abstractmethod\n",
    "    def student_name(self):\n",
    "        pass\n",
    "    \n",
    "    @abc.abstractmethod\n",
    "    def student_standerd(self):\n",
    "        pass\n",
    "    \n",
    "    @abc.abstractmethod\n",
    "    def student_ph(self):\n",
    "        pass\n",
    "    "
   ]
  },
  {
   "cell_type": "code",
   "execution_count": 2,
   "id": "c4780766",
   "metadata": {},
   "outputs": [],
   "source": [
    "class BBSSS(school):\n",
    "    def student_name(self):\n",
    "        return \"this is sumit kumar roy\"\n",
    "    \n",
    "    def student_standerd(self):\n",
    "        return \"persuing  B.Tech\"\n",
    "    \n",
    "    def student_ph(self):\n",
    "        return \"9358495849 this is my phone number\""
   ]
  },
  {
   "cell_type": "code",
   "execution_count": 3,
   "id": "56c698ea",
   "metadata": {},
   "outputs": [
    {
     "name": "stdout",
     "output_type": "stream",
     "text": [
      "this is sumit kumar roy\n",
      "9358495849 this is my phone number\n",
      "persuing  B.Tech\n"
     ]
    }
   ],
   "source": [
    "Bbsss = BBSSS()\n",
    "name = Bbsss.student_name()\n",
    "ph = Bbsss.student_ph()\n",
    "standerd = Bbsss.student_standerd()\n",
    "\n",
    "print(name)\n",
    "print(ph)\n",
    "print(standerd)"
   ]
  },
  {
   "cell_type": "code",
   "execution_count": 4,
   "id": "99822e6b",
   "metadata": {},
   "outputs": [
    {
     "data": {
      "text/plain": [
       "'\\n#2. Differentiate between Abstraction and Encapsulation. Explain with an example.\\n\\nAbstraction:  Abstraction refers to the concept of hiding complex implementation details and showing only the necessary \\n              features of an object or a class. It allows you to focus on what an object does rather than how it does it. \\n              Abstract classes and interfaces are used to achieve abstraction in programming.\\n              \\nEncapsulation: Encapsulation, on the other hand, refers to the bundling of data (attributes) and the methods \\n               (functions or procedures) that operate on that data into a single unit, i.e., a class.\\n'"
      ]
     },
     "execution_count": 4,
     "metadata": {},
     "output_type": "execute_result"
    }
   ],
   "source": [
    "'''\n",
    "#2. Differentiate between Abstraction and Encapsulation. Explain with an example.\n",
    "\n",
    "Abstraction:  Abstraction refers to the concept of hiding complex implementation details and showing only the necessary \n",
    "              features of an object or a class. It allows you to focus on what an object does rather than how it does it. \n",
    "              Abstract classes and interfaces are used to achieve abstraction in programming.\n",
    "              \n",
    "Encapsulation: Encapsulation, on the other hand, refers to the bundling of data (attributes) and the methods \n",
    "               (functions or procedures) that operate on that data into a single unit, i.e., a class.\n",
    "'''\n",
    "\n"
   ]
  },
  {
   "cell_type": "code",
   "execution_count": 5,
   "id": "237537d8",
   "metadata": {},
   "outputs": [
    {
     "data": {
      "text/plain": [
       "'\\n#3. What is abc module in python? Why is it used?\\n\\nThe abc module in Python stands for \"Abstract Base Classes.\" It provides a way to work with abstract classes and abstract \\nmethods. Abstract classes are classes that contain one or more abstract methods, which are declared but not implemented in \\nthe abstract class itself. Instead, the implementation of these methods is left to the subclasses.  It allows you to define \\nabstract base classes that enforce a certain structure or interface for subclasses to follow. This helps in achieving \\nabstraction and ensures that specific methods must be implemented by any class that inherits from the abstract base class.\\n'"
      ]
     },
     "execution_count": 5,
     "metadata": {},
     "output_type": "execute_result"
    }
   ],
   "source": [
    "'''\n",
    "#3. What is abc module in python? Why is it used?\n",
    "\n",
    "The abc module in Python stands for \"Abstract Base Classes.\" It provides a way to work with abstract classes and abstract \n",
    "methods. Abstract classes are classes that contain one or more abstract methods, which are declared but not implemented in \n",
    "the abstract class itself. Instead, the implementation of these methods is left to the subclasses.  It allows you to define \n",
    "abstract base classes that enforce a certain structure or interface for subclasses to follow. This helps in achieving \n",
    "abstraction and ensures that specific methods must be implemented by any class that inherits from the abstract base class.\n",
    "'''"
   ]
  },
  {
   "cell_type": "code",
   "execution_count": 6,
   "id": "7a522916",
   "metadata": {},
   "outputs": [
    {
     "data": {
      "text/plain": [
       "'\\n#4.  How can we achieve data abstraction?\\n\\nData abstraction involves hiding the complex implementation details and exposing only the necessary features or interfaces \\nto interact with the data. Here are some ways to achieve data abstraction:\\n\\ni. Classes and Objects (Object-Oriented Programming):\\n\\n        Encapsulation: Use classes and access control mechanisms like private, protected, and public access modifiers in Python\\n        to encapsulate data within objects. Encapsulation restricts direct access to certain attributes or methods, hiding \\n        implementation details and exposing a clean interface to interact with the data.\\n\\n        Abstraction: Utilize abstraction by defining abstract classes or interfaces that declare methods without implementing \\n        them. Subclasses must implement these abstract methods, allowing you to focus on the essential functionalities rather \\n        than the implementation details.\\n\\nii. Getters and Setters (Property Decorators):\\n\\n        Use getter and setter methods to access and modify class attributes indirectly. Python provides property decorators \\n        (@property, @<attribute>.setter, @<attribute>.deleter) to define getter, setter, and deleter methods, which allows you\\n        to control attribute access and perform validation or calculations before setting or getting values.\\n        \\niii. Modules and Functions:\\n\\n        Use functions within modules to create an abstraction layer. Expose only necessary functions or interfaces to manipulate\\n        data stored in the module, while keeping the implementation details hidden.\\n'"
      ]
     },
     "execution_count": 6,
     "metadata": {},
     "output_type": "execute_result"
    }
   ],
   "source": [
    "'''\n",
    "#4.  How can we achieve data abstraction?\n",
    "\n",
    "Data abstraction involves hiding the complex implementation details and exposing only the necessary features or interfaces \n",
    "to interact with the data. Here are some ways to achieve data abstraction:\n",
    "\n",
    "i. Classes and Objects (Object-Oriented Programming):\n",
    "\n",
    "        Encapsulation: Use classes and access control mechanisms like private, protected, and public access modifiers in Python\n",
    "        to encapsulate data within objects. Encapsulation restricts direct access to certain attributes or methods, hiding \n",
    "        implementation details and exposing a clean interface to interact with the data.\n",
    "\n",
    "        Abstraction: Utilize abstraction by defining abstract classes or interfaces that declare methods without implementing \n",
    "        them. Subclasses must implement these abstract methods, allowing you to focus on the essential functionalities rather \n",
    "        than the implementation details.\n",
    "\n",
    "ii. Getters and Setters (Property Decorators):\n",
    "\n",
    "        Use getter and setter methods to access and modify class attributes indirectly. Python provides property decorators \n",
    "        (@property, @<attribute>.setter, @<attribute>.deleter) to define getter, setter, and deleter methods, which allows you\n",
    "        to control attribute access and perform validation or calculations before setting or getting values.\n",
    "        \n",
    "iii. Modules and Functions:\n",
    "\n",
    "        Use functions within modules to create an abstraction layer. Expose only necessary functions or interfaces to manipulate\n",
    "        data stored in the module, while keeping the implementation details hidden.\n",
    "'''"
   ]
  },
  {
   "cell_type": "code",
   "execution_count": 7,
   "id": "bda318ff",
   "metadata": {},
   "outputs": [
    {
     "ename": "TypeError",
     "evalue": "Can't instantiate abstract class AbstractClass with abstract method some_method",
     "output_type": "error",
     "traceback": [
      "\u001b[1;31m---------------------------------------------------------------------------\u001b[0m",
      "\u001b[1;31mTypeError\u001b[0m                                 Traceback (most recent call last)",
      "Cell \u001b[1;32mIn[7], line 19\u001b[0m\n\u001b[0;32m     16\u001b[0m         \u001b[38;5;28;01mpass\u001b[39;00m\n\u001b[0;32m     18\u001b[0m \u001b[38;5;66;03m# Attempting to create an instance of the abstract class will result in a TypeError\u001b[39;00m\n\u001b[1;32m---> 19\u001b[0m ab \u001b[38;5;241m=\u001b[39m AbstractClass()\n",
      "\u001b[1;31mTypeError\u001b[0m: Can't instantiate abstract class AbstractClass with abstract method some_method"
     ]
    }
   ],
   "source": [
    "'''\n",
    "#5.  Can we create an instance of an abstract class? Explain your answer.\n",
    "\n",
    "        an abstract class itself cannot be instantiated directly. Attempting to create an instance of an abstract class will \n",
    "        result in a TypeError. Abstract classes are designed to serve as blueprints for other classes (concrete classes) to\n",
    "        inherit from. They typically contain one or more abstract methods that lack implementation in the abstract class itself.\n",
    "        Instead, these methods must be implemented in the concrete subclasses that inherit from the abstract class.\n",
    "\n",
    "'''\n",
    "\n",
    "from abc import ABC, abstractmethod\n",
    "\n",
    "class AbstractClass(ABC):\n",
    "    @abstractmethod\n",
    "    def some_method(self):\n",
    "        pass\n",
    "\n",
    "# Attempting to create an instance of the abstract class will result in a TypeError\n",
    "ab = AbstractClass()  # This line will cause a TypeError"
   ]
  },
  {
   "cell_type": "code",
   "execution_count": null,
   "id": "3a3e92fc",
   "metadata": {},
   "outputs": [],
   "source": []
  },
  {
   "cell_type": "code",
   "execution_count": null,
   "id": "26e6c8ab",
   "metadata": {},
   "outputs": [],
   "source": []
  }
 ],
 "metadata": {
  "kernelspec": {
   "display_name": "Python 3 (ipykernel)",
   "language": "python",
   "name": "python3"
  },
  "language_info": {
   "codemirror_mode": {
    "name": "ipython",
    "version": 3
   },
   "file_extension": ".py",
   "mimetype": "text/x-python",
   "name": "python",
   "nbconvert_exporter": "python",
   "pygments_lexer": "ipython3",
   "version": "3.11.4"
  }
 },
 "nbformat": 4,
 "nbformat_minor": 5
}
